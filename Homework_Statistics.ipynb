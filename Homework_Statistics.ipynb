{
  "nbformat": 4,
  "nbformat_minor": 0,
  "metadata": {
    "colab": {
      "provenance": [],
      "authorship_tag": "ABX9TyNb8bS6CxPXbVSGck+U9WPe",
      "include_colab_link": true
    },
    "kernelspec": {
      "name": "python3",
      "display_name": "Python 3"
    },
    "language_info": {
      "name": "python"
    }
  },
  "cells": [
    {
      "cell_type": "markdown",
      "metadata": {
        "id": "view-in-github",
        "colab_type": "text"
      },
      "source": [
        "<a href=\"https://colab.research.google.com/github/pin94/statistics-hw/blob/main/Homework_Statistics.ipynb\" target=\"_parent\"><img src=\"https://colab.research.google.com/assets/colab-badge.svg\" alt=\"Open In Colab\"/></a>"
      ]
    },
    {
      "cell_type": "code",
      "execution_count": null,
      "metadata": {
        "colab": {
          "base_uri": "https://localhost:8080/"
        },
        "id": "gYdzaBkhX9gu",
        "outputId": "a0a51cb3-a0eb-4083-c996-7b58b87e33ef"
      },
      "outputs": [
        {
          "output_type": "stream",
          "name": "stdout",
          "text": [
            "Mounted at /content/drive\n"
          ]
        }
      ],
      "source": [
        "import pandas as pd\n",
        "import numpy as np\n",
        "import matplotlib.pyplot as plt\n",
        "import seaborn as sns\n",
        "from google.colab import drive\n",
        "drive.mount('/content/drive')"
      ]
    },
    {
      "cell_type": "code",
      "source": [
        "import statsmodels.api as sm\n",
        "import statsmodels.formula.api as smf\n",
        "import statsmodels.stats.api as sms\n",
        "import scipy.stats as stats"
      ],
      "metadata": {
        "id": "VmZqhMUWaRDV"
      },
      "execution_count": null,
      "outputs": []
    },
    {
      "cell_type": "code",
      "source": [
        "myDirFiles='/content/drive/MyDrive/cust_seg.csv'\n",
        "df=pd.read_csv(myDirFiles,delimiter=',')\n",
        "df.head()"
      ],
      "metadata": {
        "colab": {
          "base_uri": "https://localhost:8080/",
          "height": 268
        },
        "id": "KHP98IVYYIR3",
        "outputId": "986f59de-a799-4cc5-c837-1ed53e42406b"
      },
      "execution_count": null,
      "outputs": [
        {
          "output_type": "execute_result",
          "data": {
            "text/plain": [
              "   custid  sex  AqChannel  region  Marital_status  segment  pre_usage  \\\n",
              "0      70    0          4       1               1        1         57   \n",
              "1     121    1          4       2               1        3         68   \n",
              "2      86    0          4       3               1        1         44   \n",
              "3     141    0          4       3               1        3         63   \n",
              "4     172    0          4       2               1        2         47   \n",
              "\n",
              "   Post_usage_1month  Latest_mon_usage  post_usage_2ndmonth  \n",
              "0                 52              49.2                 57.2  \n",
              "1                 59              63.6                 64.9  \n",
              "2                 33              64.8                 36.3  \n",
              "3                 44              56.4                 48.4  \n",
              "4                 52              68.4                 57.2  "
            ],
            "text/html": [
              "\n",
              "  <div id=\"df-955e8f24-9432-4c0b-bec9-b9d463c41798\">\n",
              "    <div class=\"colab-df-container\">\n",
              "      <div>\n",
              "<style scoped>\n",
              "    .dataframe tbody tr th:only-of-type {\n",
              "        vertical-align: middle;\n",
              "    }\n",
              "\n",
              "    .dataframe tbody tr th {\n",
              "        vertical-align: top;\n",
              "    }\n",
              "\n",
              "    .dataframe thead th {\n",
              "        text-align: right;\n",
              "    }\n",
              "</style>\n",
              "<table border=\"1\" class=\"dataframe\">\n",
              "  <thead>\n",
              "    <tr style=\"text-align: right;\">\n",
              "      <th></th>\n",
              "      <th>custid</th>\n",
              "      <th>sex</th>\n",
              "      <th>AqChannel</th>\n",
              "      <th>region</th>\n",
              "      <th>Marital_status</th>\n",
              "      <th>segment</th>\n",
              "      <th>pre_usage</th>\n",
              "      <th>Post_usage_1month</th>\n",
              "      <th>Latest_mon_usage</th>\n",
              "      <th>post_usage_2ndmonth</th>\n",
              "    </tr>\n",
              "  </thead>\n",
              "  <tbody>\n",
              "    <tr>\n",
              "      <th>0</th>\n",
              "      <td>70</td>\n",
              "      <td>0</td>\n",
              "      <td>4</td>\n",
              "      <td>1</td>\n",
              "      <td>1</td>\n",
              "      <td>1</td>\n",
              "      <td>57</td>\n",
              "      <td>52</td>\n",
              "      <td>49.2</td>\n",
              "      <td>57.2</td>\n",
              "    </tr>\n",
              "    <tr>\n",
              "      <th>1</th>\n",
              "      <td>121</td>\n",
              "      <td>1</td>\n",
              "      <td>4</td>\n",
              "      <td>2</td>\n",
              "      <td>1</td>\n",
              "      <td>3</td>\n",
              "      <td>68</td>\n",
              "      <td>59</td>\n",
              "      <td>63.6</td>\n",
              "      <td>64.9</td>\n",
              "    </tr>\n",
              "    <tr>\n",
              "      <th>2</th>\n",
              "      <td>86</td>\n",
              "      <td>0</td>\n",
              "      <td>4</td>\n",
              "      <td>3</td>\n",
              "      <td>1</td>\n",
              "      <td>1</td>\n",
              "      <td>44</td>\n",
              "      <td>33</td>\n",
              "      <td>64.8</td>\n",
              "      <td>36.3</td>\n",
              "    </tr>\n",
              "    <tr>\n",
              "      <th>3</th>\n",
              "      <td>141</td>\n",
              "      <td>0</td>\n",
              "      <td>4</td>\n",
              "      <td>3</td>\n",
              "      <td>1</td>\n",
              "      <td>3</td>\n",
              "      <td>63</td>\n",
              "      <td>44</td>\n",
              "      <td>56.4</td>\n",
              "      <td>48.4</td>\n",
              "    </tr>\n",
              "    <tr>\n",
              "      <th>4</th>\n",
              "      <td>172</td>\n",
              "      <td>0</td>\n",
              "      <td>4</td>\n",
              "      <td>2</td>\n",
              "      <td>1</td>\n",
              "      <td>2</td>\n",
              "      <td>47</td>\n",
              "      <td>52</td>\n",
              "      <td>68.4</td>\n",
              "      <td>57.2</td>\n",
              "    </tr>\n",
              "  </tbody>\n",
              "</table>\n",
              "</div>\n",
              "      <button class=\"colab-df-convert\" onclick=\"convertToInteractive('df-955e8f24-9432-4c0b-bec9-b9d463c41798')\"\n",
              "              title=\"Convert this dataframe to an interactive table.\"\n",
              "              style=\"display:none;\">\n",
              "        \n",
              "  <svg xmlns=\"http://www.w3.org/2000/svg\" height=\"24px\"viewBox=\"0 0 24 24\"\n",
              "       width=\"24px\">\n",
              "    <path d=\"M0 0h24v24H0V0z\" fill=\"none\"/>\n",
              "    <path d=\"M18.56 5.44l.94 2.06.94-2.06 2.06-.94-2.06-.94-.94-2.06-.94 2.06-2.06.94zm-11 1L8.5 8.5l.94-2.06 2.06-.94-2.06-.94L8.5 2.5l-.94 2.06-2.06.94zm10 10l.94 2.06.94-2.06 2.06-.94-2.06-.94-.94-2.06-.94 2.06-2.06.94z\"/><path d=\"M17.41 7.96l-1.37-1.37c-.4-.4-.92-.59-1.43-.59-.52 0-1.04.2-1.43.59L10.3 9.45l-7.72 7.72c-.78.78-.78 2.05 0 2.83L4 21.41c.39.39.9.59 1.41.59.51 0 1.02-.2 1.41-.59l7.78-7.78 2.81-2.81c.8-.78.8-2.07 0-2.86zM5.41 20L4 18.59l7.72-7.72 1.47 1.35L5.41 20z\"/>\n",
              "  </svg>\n",
              "      </button>\n",
              "      \n",
              "  <style>\n",
              "    .colab-df-container {\n",
              "      display:flex;\n",
              "      flex-wrap:wrap;\n",
              "      gap: 12px;\n",
              "    }\n",
              "\n",
              "    .colab-df-convert {\n",
              "      background-color: #E8F0FE;\n",
              "      border: none;\n",
              "      border-radius: 50%;\n",
              "      cursor: pointer;\n",
              "      display: none;\n",
              "      fill: #1967D2;\n",
              "      height: 32px;\n",
              "      padding: 0 0 0 0;\n",
              "      width: 32px;\n",
              "    }\n",
              "\n",
              "    .colab-df-convert:hover {\n",
              "      background-color: #E2EBFA;\n",
              "      box-shadow: 0px 1px 2px rgba(60, 64, 67, 0.3), 0px 1px 3px 1px rgba(60, 64, 67, 0.15);\n",
              "      fill: #174EA6;\n",
              "    }\n",
              "\n",
              "    [theme=dark] .colab-df-convert {\n",
              "      background-color: #3B4455;\n",
              "      fill: #D2E3FC;\n",
              "    }\n",
              "\n",
              "    [theme=dark] .colab-df-convert:hover {\n",
              "      background-color: #434B5C;\n",
              "      box-shadow: 0px 1px 3px 1px rgba(0, 0, 0, 0.15);\n",
              "      filter: drop-shadow(0px 1px 2px rgba(0, 0, 0, 0.3));\n",
              "      fill: #FFFFFF;\n",
              "    }\n",
              "  </style>\n",
              "\n",
              "      <script>\n",
              "        const buttonEl =\n",
              "          document.querySelector('#df-955e8f24-9432-4c0b-bec9-b9d463c41798 button.colab-df-convert');\n",
              "        buttonEl.style.display =\n",
              "          google.colab.kernel.accessAllowed ? 'block' : 'none';\n",
              "\n",
              "        async function convertToInteractive(key) {\n",
              "          const element = document.querySelector('#df-955e8f24-9432-4c0b-bec9-b9d463c41798');\n",
              "          const dataTable =\n",
              "            await google.colab.kernel.invokeFunction('convertToInteractive',\n",
              "                                                     [key], {});\n",
              "          if (!dataTable) return;\n",
              "\n",
              "          const docLinkHtml = 'Like what you see? Visit the ' +\n",
              "            '<a target=\"_blank\" href=https://colab.research.google.com/notebooks/data_table.ipynb>data table notebook</a>'\n",
              "            + ' to learn more about interactive tables.';\n",
              "          element.innerHTML = '';\n",
              "          dataTable['output_type'] = 'display_data';\n",
              "          await google.colab.output.renderOutput(dataTable, element);\n",
              "          const docLink = document.createElement('div');\n",
              "          docLink.innerHTML = docLinkHtml;\n",
              "          element.appendChild(docLink);\n",
              "        }\n",
              "      </script>\n",
              "    </div>\n",
              "  </div>\n",
              "  "
            ]
          },
          "metadata": {},
          "execution_count": 4
        }
      ]
    },
    {
      "cell_type": "code",
      "source": [
        "# checking the data type and see if there's any null value\n",
        "df.info() "
      ],
      "metadata": {
        "colab": {
          "base_uri": "https://localhost:8080/"
        },
        "id": "jcuWeIDSZEKH",
        "outputId": "32975066-f5d8-431c-d877-6ad25131091a"
      },
      "execution_count": null,
      "outputs": [
        {
          "output_type": "stream",
          "name": "stdout",
          "text": [
            "<class 'pandas.core.frame.DataFrame'>\n",
            "RangeIndex: 200 entries, 0 to 199\n",
            "Data columns (total 10 columns):\n",
            " #   Column               Non-Null Count  Dtype  \n",
            "---  ------               --------------  -----  \n",
            " 0   custid               200 non-null    int64  \n",
            " 1   sex                  200 non-null    int64  \n",
            " 2   AqChannel            200 non-null    int64  \n",
            " 3   region               200 non-null    int64  \n",
            " 4   Marital_status       200 non-null    int64  \n",
            " 5   segment              200 non-null    int64  \n",
            " 6   pre_usage            200 non-null    int64  \n",
            " 7   Post_usage_1month    200 non-null    int64  \n",
            " 8   Latest_mon_usage     200 non-null    float64\n",
            " 9   post_usage_2ndmonth  200 non-null    float64\n",
            "dtypes: float64(2), int64(8)\n",
            "memory usage: 15.8 KB\n"
          ]
        }
      ]
    },
    {
      "cell_type": "markdown",
      "source": [
        "no null value found."
      ],
      "metadata": {
        "id": "MtmP7oJzyLxv"
      }
    },
    {
      "cell_type": "markdown",
      "source": [
        "# Data Exploratory Analysis\n",
        "\n"
      ],
      "metadata": {
        "id": "biwJM5KQZOzV"
      }
    },
    {
      "cell_type": "code",
      "source": [
        "# Finding the average difference in usage\n",
        "x=['Last Year','Before Campaign','After Campaign']\n",
        "y=[df.Latest_mon_usage.mean(),df.pre_usage.mean(),df.post_usage_2ndmonth.mean()]\n",
        "\n",
        "plt.bar(x,y);\n",
        "\n",
        "print(f'Average usage from last year is: {df.Latest_mon_usage.mean()}')\n",
        "print(f'Average usage before campaign is: {df.pre_usage.mean()}')\n",
        "print(f'Average usage after campaign is: {df.post_usage_2ndmonth.mean()}')"
      ],
      "metadata": {
        "id": "2qNApZ90gh4n",
        "colab": {
          "base_uri": "https://localhost:8080/",
          "height": 319
        },
        "outputId": "440ebce8-8e33-409d-e204-635ea1f7a9d5"
      },
      "execution_count": null,
      "outputs": [
        {
          "output_type": "stream",
          "name": "stdout",
          "text": [
            "Average usage from last year is: 63.174\n",
            "Average usage before campaign is: 52.23\n",
            "Average usage after campaign is: 58.0525\n"
          ]
        },
        {
          "output_type": "display_data",
          "data": {
            "text/plain": [
              "<Figure size 432x288 with 1 Axes>"
            ],
            "image/png": "[encoded data removed]"
          },
          "metadata": {
            "needs_background": "light"
          }
        }
      ]
    },
    {
      "cell_type": "code",
      "source": [
        "# Finding the standard deviation difference in usage\n",
        "x=['Last Year','Before Campaign','After Campaign']\n",
        "y=[df.Latest_mon_usage.std(),df.pre_usage.std(),df.post_usage_2ndmonth.std()]\n",
        "\n",
        "plt.bar(x,y);\n",
        "\n",
        "print(f'Standard deviation from last year is: {df.Latest_mon_usage.std()}')\n",
        "print(f'Standard deviation before campaign is: {df.pre_usage.std()}')\n",
        "print(f'Standard deviation after campaign is: {df.post_usage_2ndmonth.std()}')"
      ],
      "metadata": {
        "colab": {
          "base_uri": "https://localhost:8080/",
          "height": 319
        },
        "id": "r3q7-XyfhUt8",
        "outputId": "8c443ba4-8335-4693-82d9-ef0f9d7d3efe"
      },
      "execution_count": null,
      "outputs": [
        {
          "output_type": "stream",
          "name": "stdout",
          "text": [
            "Standard deviation from last year is: 11.242137352892756\n",
            "Standard deviation before campaign is: 10.25293682648241\n",
            "Standard deviation after campaign is: 10.426444623525184\n"
          ]
        },
        {
          "output_type": "display_data",
          "data": {
            "text/plain": [
              "<Figure size 432x288 with 1 Axes>"
            ],
            "image/png": "[encoded data removed]"
          },
          "metadata": {
            "needs_background": "light"
          }
        }
      ]
    },
    {
      "cell_type": "code",
      "source": [
        "# Grouping users by sex\n",
        "df1=df.groupby('sex')['pre_usage','post_usage_2ndmonth'].mean()\n",
        "df1.plot.bar(figsize=(10,5));\n",
        "print('0: Male, 1: Female')"
      ],
      "metadata": {
        "colab": {
          "base_uri": "https://localhost:8080/",
          "height": 404
        },
        "id": "xhYniyW3zAAw",
        "outputId": "697648f8-66ce-4f07-e76f-b45433ec1c22"
      },
      "execution_count": null,
      "outputs": [
        {
          "output_type": "stream",
          "name": "stderr",
          "text": [
            "<ipython-input-36-5c751d8d6219>:2: FutureWarning: Indexing with multiple keys (implicitly converted to a tuple of keys) will be deprecated, use a list instead.\n",
            "  df1=df.groupby('sex')['pre_usage','post_usage_2ndmonth'].mean()\n"
          ]
        },
        {
          "output_type": "stream",
          "name": "stdout",
          "text": [
            "0: Male, 1: Female\n"
          ]
        },
        {
          "output_type": "display_data",
          "data": {
            "text/plain": [
              "<Figure size 720x360 with 1 Axes>"
            ],
            "image/png": "[encoded data removed]"
          },
          "metadata": {
            "needs_background": "light"
          }
        }
      ]
    },
    {
      "cell_type": "markdown",
      "source": [
        "# Hypothesis Test"
      ],
      "metadata": {
        "id": "6d_i_WALZcNr"
      }
    },
    {
      "cell_type": "markdown",
      "source": [
        "## Define H0 & H1 using significance level (α)=5%, and draw the conclusion."
      ],
      "metadata": {
        "id": "lvzrxTisZq-1"
      }
    },
    {
      "cell_type": "markdown",
      "source": [
        "* Null Hipotsesis (H0): Penggunaan campaign tidak berpengaruh terhadap peningkatan credit card usage.\n",
        "* Alternatif Hipotesis (H1): Penggunaan campaign berpengaruh terhadap penurunan credit card usage. \n",
        "* Level signifikasi: 0,05\n",
        "* p-value: 0.000 (pearson test), 0.000 (spearman test)\n",
        "* Kesimpulan: p-value < level signifikasi artinya H0 tertolak. Maka H1 diterima, artinya berpengaruh terhadap penurunan credit card usage."
      ],
      "metadata": {
        "id": "Eyd2bcrmqDe-"
      }
    },
    {
      "cell_type": "code",
      "source": [
        "# Check the shape of the data are normally distributed\n",
        "df0=df[['Latest_mon_usage','pre_usage','post_usage_2ndmonth']]\n",
        "sns.pairplot(df0);"
      ],
      "metadata": {
        "colab": {
          "base_uri": "https://localhost:8080/",
          "height": 550
        },
        "id": "boVgidSw9nqy",
        "outputId": "1903e8e1-b981-4d17-e2d0-c1b9d900166a"
      },
      "execution_count": null,
      "outputs": [
        {
          "output_type": "display_data",
          "data": {
            "text/plain": [
              "<Figure size 540x540 with 12 Axes>"
            ],
            "image/png": "[encoded data removed]"
          },
          "metadata": {
            "needs_background": "light"
          }
        }
      ]
    },
    {
      "cell_type": "markdown",
      "source": [
        "normally distributed data are shaped like a bell, and none of the data shaped like a bell, so it's not linearly related."
      ],
      "metadata": {
        "id": "hQgEPjap-rGZ"
      }
    },
    {
      "cell_type": "code",
      "source": [
        "before=df.Latest_mon_usage\n",
        "after=df.post_usage_2ndmonth"
      ],
      "metadata": {
        "id": "1CbeYr-jQYJn"
      },
      "execution_count": null,
      "outputs": []
    },
    {
      "cell_type": "code",
      "source": [
        "# Using Shapiro Wilk test to check normality\n",
        "stat, p=stats.shapiro(after)\n",
        "print('Shapiro Wilk: %0.3f'%(stat))\n",
        "print('P-value: %0.3f'%(p))"
      ],
      "metadata": {
        "colab": {
          "base_uri": "https://localhost:8080/"
        },
        "id": "lvEH0GT5RKua",
        "outputId": "e5c58984-c986-41c4-f453-cf88694dd89a"
      },
      "execution_count": null,
      "outputs": [
        {
          "output_type": "stream",
          "name": "stdout",
          "text": [
            "Shapiro Wilk: 0.947\n",
            "P-value: 0.000\n"
          ]
        }
      ]
    },
    {
      "cell_type": "markdown",
      "source": [
        "Nilai statistik dari uji shapiro adalah sebesar 0.947 dan nilai p-valuenya adalah sebesar 0.000.\n",
        "Dengan H0 dari uji normalitas adalah data berdistribusi normal dan daerah kritisnya p-value < alpha adalah tolak H0 maka dari uji shapiro wilk diketahui p-value (0.000) < alpha (0.05) sehingga H0 tertolak, sehingga data tidak berdistribusi normal."
      ],
      "metadata": {
        "id": "xO-7x7QcSy43"
      }
    },
    {
      "cell_type": "code",
      "source": [
        "# Using Jarque-Bera test to check normality\n",
        "stat, p=stats.jarque_bera(after)\n",
        "print('P-value: %0.3f'%(p))"
      ],
      "metadata": {
        "colab": {
          "base_uri": "https://localhost:8080/"
        },
        "id": "-H0eqX7vSQwC",
        "outputId": "59842f4b-4b5e-4564-dae6-6da075595d74"
      },
      "execution_count": null,
      "outputs": [
        {
          "output_type": "stream",
          "name": "stdout",
          "text": [
            "P-value: 0.002\n"
          ]
        }
      ]
    },
    {
      "cell_type": "markdown",
      "source": [
        "Diketahui p-value dari uji normalitas jarque bera sebesar 0.002 maka data yang ada menolak H0 karena p-value < alpha., artinya data sesudah campaign tidak berdistribusi normal."
      ],
      "metadata": {
        "id": "CGybT2f3Ttm_"
      }
    },
    {
      "cell_type": "code",
      "source": [
        "# Using Pearson's Correlation Coefficient test to find linear correlation\n",
        "stat, p=stats.pearsonr(before,after)\n",
        "print('PearsonR Correlation Coefficient: %0.3f'%(stat))\n",
        "print('P-value: %0.3f'%(p))"
      ],
      "metadata": {
        "colab": {
          "base_uri": "https://localhost:8080/"
        },
        "id": "KcwvqG84T4Ej",
        "outputId": "8c3c013e-1f48-4d3a-dc6d-55021d9437c9"
      },
      "execution_count": null,
      "outputs": [
        {
          "output_type": "stream",
          "name": "stdout",
          "text": [
            "PearsonR Correlation Coefficient: 0.617\n",
            "P-value: 0.000\n"
          ]
        }
      ]
    },
    {
      "cell_type": "markdown",
      "source": [
        "Diketahui bahwa nilai statistik dari uji korelasi pearson adalah sebesar 0.617 dan nilai p-valuenya adalah sebesar 0.000\n",
        "Dengan H0 dari uji korelasi adalah data independen (tidak berkorelasi) dan daerah kritisnya p-value < alpha adalah tolak H0 maka dari uji pearson diketahui p-value (0.000) < alpha (0.05) sehingga H0 tertolak, artinya data sebelum campaign dengan sesudah campaign tidak berkorelasi."
      ],
      "metadata": {
        "id": "e_r3rfRCUoF-"
      }
    },
    {
      "cell_type": "code",
      "source": [
        "# Using Spearman's Rank Correlation Coefficient test to find linear correlation\n",
        "stat, p=stats.spearmanr(before,after)\n",
        "print(\"Spearman's Rank Correlation Coefficient: %0.3f\"%(stat))\n",
        "print('P-value: %0.3f'%(p))"
      ],
      "metadata": {
        "colab": {
          "base_uri": "https://localhost:8080/"
        },
        "id": "H2lSeMIoVMIC",
        "outputId": "0b57a93f-8abe-40ac-90fb-151edce425f3"
      },
      "execution_count": null,
      "outputs": [
        {
          "output_type": "stream",
          "name": "stdout",
          "text": [
            "Spearman's Rank Correlation Coefficient: 0.644\n",
            "P-value: 0.000\n"
          ]
        }
      ]
    },
    {
      "cell_type": "markdown",
      "source": [
        "Dari hasil p-value uji spearman diketahui juga nilainya H0 ditolak, artinya data tidak saling berkorelasi."
      ],
      "metadata": {
        "id": "D2Cw7ncnVeOx"
      }
    }
  ]
}